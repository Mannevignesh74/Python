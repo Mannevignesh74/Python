{
 "cells": [
  {
   "cell_type": "code",
   "execution_count": null,
   "id": "255d964c",
   "metadata": {},
   "outputs": [
    {
     "name": "stdout",
     "output_type": "stream",
     "text": [
      "1. Addition\n",
      "2. Subtraction\n",
      "3. Multiplication\n",
      "4. Division\n",
      "5. Exit\n",
      "Enter your choice(1-5):1\n",
      "Enter 1st Number:2\n",
      "Enter 2nd Number:2\n",
      "Addition= 4\n",
      "1. Addition\n",
      "2. Subtraction\n",
      "3. Multiplication\n",
      "4. Division\n",
      "5. Exit\n"
     ]
    }
   ],
   "source": [
    "def addition(num1,num2):\n",
    "  print(\"Addition=\",num1+num2)\n",
    " \n",
    "def subtraction(num1,num2):\n",
    "  print(\"Subtraction=\",num1-num2)\n",
    " \n",
    "def multiplication(num1,num2):\n",
    "  print(\"Multiplication=\",num1*num2)\n",
    " \n",
    "def division(num1,num2):\n",
    "  print(\"Division=\",num1/num2)\n",
    " \n",
    "while True:\n",
    "  print(\"1. Addition\")\n",
    "  print(\"2. Subtraction\")\n",
    "  print(\"3. Multiplication\")\n",
    "  print(\"4. Division\")\n",
    "  print(\"5. Exit\")\n",
    "  choice=int(input(\"Enter your choice(1-5):\"))\n",
    " \n",
    "  if choice==1:\n",
    "    num1=int(input(\"Enter 1st Number:\"))\n",
    "    num2=int(input(\"Enter 2nd Number:\"))\n",
    "    addition(num1,num2)\n",
    " \n",
    " \n",
    "  elif choice==2:\n",
    "    num1=int(input(\"Enter 1st Number:\"))\n",
    "    num2=int(input(\"Enter 2nd Number:\"))\n",
    "    subtraction(num1,num2)\n",
    " \n",
    "  elif choice==3:\n",
    "    num1=int(input(\"Enter 1st Number:\"))\n",
    "    num2=int(input(\"Enter 2nd Number:\"))\n",
    "    multiplication(num1,num2)\n",
    " \n",
    "  elif choice==4:\n",
    "    num1=int(input(\"Enter 1st Number:\"))\n",
    "    num2=int(input(\"Enter 2nd Number:\"))\n",
    "    if num2 == 0:\n",
    "      print('Infinity')\n",
    "    else:\n",
    "      division(num1,num2)\n",
    "     \n",
    "  elif choice==5:\n",
    "    break\n",
    "  else:\n",
    "    print(\"Wrong Choice\")"
   ]
  },
  {
   "cell_type": "code",
   "execution_count": null,
   "id": "6ccd7954",
   "metadata": {},
   "outputs": [],
   "source": []
  }
 ],
 "metadata": {
  "kernelspec": {
   "display_name": "Python 3 (ipykernel)",
   "language": "python",
   "name": "python3"
  },
  "language_info": {
   "codemirror_mode": {
    "name": "ipython",
    "version": 3
   },
   "file_extension": ".py",
   "mimetype": "text/x-python",
   "name": "python",
   "nbconvert_exporter": "python",
   "pygments_lexer": "ipython3",
   "version": "3.10.9"
  }
 },
 "nbformat": 4,
 "nbformat_minor": 5
}
